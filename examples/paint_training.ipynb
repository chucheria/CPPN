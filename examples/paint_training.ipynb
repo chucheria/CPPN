{
 "cells": [
  {
   "cell_type": "code",
   "execution_count": null,
   "id": "round-window",
   "metadata": {},
   "outputs": [],
   "source": [
    "import sys\n",
    "import torch\n",
    "import numpy as np\n",
    "from functools import partial\n",
    "sys.path.append(\"..\")\n",
    "\n",
    "from CPPN import NN\n",
    "from CPPN import ColorFactory\n",
    "from CPPN import plot_image"
   ]
  },
  {
   "cell_type": "code",
   "execution_count": null,
   "id": "substantial-notion",
   "metadata": {},
   "outputs": [],
   "source": [
    "SIZE_X = 256\n",
    "SIZE_Y = 256\n",
    "LAYERS = 16\n",
    "NEURONS = 16\n",
    "OUTPUT_SIZE = 3\n",
    "\n",
    "paint_net = NN(input_size=2,\n",
    "               n_neurons=NEURONS,\n",
    "               n_layers=LAYERS,\n",
    "               output_size=OUTPUT_SIZE)"
   ]
  },
  {
   "cell_type": "code",
   "execution_count": null,
   "id": "frank-stephen",
   "metadata": {},
   "outputs": [],
   "source": [
    "factory = ColorFactory()"
   ]
  },
  {
   "cell_type": "code",
   "execution_count": null,
   "id": "soviet-authentication",
   "metadata": {},
   "outputs": [],
   "source": [
    "img = factory.generate(pattern='simple', \n",
    "                       size_x=SIZE_X, \n",
    "                       size_y=SIZE_Y)\n",
    "\n",
    "paint = net(torch.tensor(img).type(torch.FloatTensor))\n",
    "plot_image(paint, SIZE_X, SIZE_Y)"
   ]
  },
  {
   "cell_type": "code",
   "execution_count": null,
   "id": "worthy-freedom",
   "metadata": {},
   "outputs": [],
   "source": [
    "# Now we created the target to learn, the same image but blueish\n",
    "\n",
    "target_img = img\n",
    "target_img[:,0]=0.\n",
    "target_img[:,1]=0.\n",
    "\n",
    "plot_image(target_input,256,256)"
   ]
  },
  {
   "cell_type": "code",
   "execution_count": null,
   "id": "matched-mining",
   "metadata": {},
   "outputs": [],
   "source": [
    "# Train the net to learn the new image\n",
    "\n",
    "source = square_input\n",
    "target = target_input.detach().numpy()\n",
    "\n",
    "callback_plot = partial(plot_image,size_x=256,size_y=256)\n",
    "net.train(source, target, 20, callback_plot)"
   ]
  }
 ],
 "metadata": {
  "kernelspec": {
   "display_name": "Python 3",
   "language": "python",
   "name": "python3"
  },
  "language_info": {
   "codemirror_mode": {
    "name": "ipython",
    "version": 3
   },
   "file_extension": ".py",
   "mimetype": "text/x-python",
   "name": "python",
   "nbconvert_exporter": "python",
   "pygments_lexer": "ipython3",
   "version": "3.6.10"
  }
 },
 "nbformat": 4,
 "nbformat_minor": 5
}
