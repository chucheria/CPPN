{
 "cells": [
  {
   "cell_type": "code",
   "execution_count": null,
   "id": "difficult-deputy",
   "metadata": {},
   "outputs": [],
   "source": [
    "import sys\n",
    "import torch\n",
    "import numpy as np\n",
    "sys.path.append(\"..\")\n",
    "\n",
    "from CPPN import NN\n",
    "from CPPN import ColorFactory\n",
    "from CPPN import plot_image"
   ]
  },
  {
   "cell_type": "code",
   "execution_count": null,
   "id": "banned-shame",
   "metadata": {},
   "outputs": [],
   "source": [
    "SIZE_X = 256\n",
    "SIZE_Y = 256\n",
    "LAYERS = 16\n",
    "NEURONS = 16\n",
    "OUTPUT_SIZE = 3\n",
    "\n",
    "paint_net = NN(input_size=2,\n",
    "               n_neurons=NEURONS,\n",
    "               n_layers=LAYERS,\n",
    "               output_size=OUTPUT_SIZE)"
   ]
  },
  {
   "cell_type": "code",
   "execution_count": null,
   "id": "eastern-opera",
   "metadata": {},
   "outputs": [],
   "source": [
    "factory = ColorFactory()"
   ]
  },
  {
   "cell_type": "code",
   "execution_count": null,
   "id": "computational-brown",
   "metadata": {},
   "outputs": [],
   "source": [
    "img = factory.generate(pattern='simple', \n",
    "                       size_x=SIZE_X, \n",
    "                       size_y=SIZE_Y)\n",
    "\n",
    "paint = net(torch.tensor(img).type(torch.FloatTensor))\n",
    "plot_image(paint, SIZE_X, SIZE_Y)"
   ]
  },
  {
   "cell_type": "code",
   "execution_count": null,
   "id": "noticed-decade",
   "metadata": {},
   "outputs": [],
   "source": [
    "img = factory.generate(pattern='sin', \n",
    "                       size_x=SIZE_X, \n",
    "                       size_y=SIZE_Y)\n",
    "\n",
    "paint = net(torch.tensor(img).type(torch.FloatTensor))\n",
    "plot_image(paint, SIZE_X, SIZE_Y)"
   ]
  },
  {
   "cell_type": "code",
   "execution_count": null,
   "id": "given-decision",
   "metadata": {},
   "outputs": [],
   "source": [
    "img = factory.generate(pattern='square', \n",
    "                       size_x=SIZE_X, \n",
    "                       size_y=SIZE_Y)\n",
    "\n",
    "paint = net(torch.tensor(img).type(torch.FloatTensor))\n",
    "plot_image(paint, SIZE_X, SIZE_Y)"
   ]
  },
  {
   "cell_type": "code",
   "execution_count": null,
   "id": "basic-singles",
   "metadata": {},
   "outputs": [],
   "source": [
    "img = factory.generate(pattern='circle', \n",
    "                       size_x=SIZE_X, \n",
    "                       size_y=SIZE_Y)\n",
    "\n",
    "paint = net(torch.tensor(img).type(torch.FloatTensor))\n",
    "plot_image(paint, SIZE_X, SIZE_Y)"
   ]
  },
  {
   "cell_type": "code",
   "execution_count": null,
   "id": "competent-vermont",
   "metadata": {},
   "outputs": [],
   "source": [
    "img = factory.generate(pattern='scaled', \n",
    "                       size_x=SIZE_X, \n",
    "                       size_y=SIZE_Y)\n",
    "\n",
    "paint = net(torch.tensor(img).type(torch.FloatTensor))\n",
    "plot_image(paint, SIZE_X, SIZE_Y)"
   ]
  },
  {
   "cell_type": "code",
   "execution_count": null,
   "id": "clean-jackson",
   "metadata": {},
   "outputs": [],
   "source": [
    "img = factory.generate(pattern='paranoia', \n",
    "                       size_x=SIZE_X, \n",
    "                       size_y=SIZE_Y)\n",
    "\n",
    "paint = net(torch.tensor(img).type(torch.FloatTensor))\n",
    "plot_image(paint, SIZE_X, SIZE_Y)"
   ]
  }
 ],
 "metadata": {
  "kernelspec": {
   "display_name": "Python 3",
   "language": "python",
   "name": "python3"
  },
  "language_info": {
   "codemirror_mode": {
    "name": "ipython",
    "version": 3
   },
   "file_extension": ".py",
   "mimetype": "text/x-python",
   "name": "python",
   "nbconvert_exporter": "python",
   "pygments_lexer": "ipython3",
   "version": "3.6.10"
  }
 },
 "nbformat": 4,
 "nbformat_minor": 5
}
