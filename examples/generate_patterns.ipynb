{
 "cells": [
  {
   "cell_type": "code",
   "execution_count": null,
   "id": "complete-native",
   "metadata": {},
   "outputs": [],
   "source": [
    "import sys\n",
    "import torch\n",
    "import numpy as np\n",
    "sys.path.append(\"..\")\n",
    "\n",
    "from CPPN import ColorFactory\n",
    "from CPPN import plot_pattern"
   ]
  },
  {
   "cell_type": "code",
   "execution_count": null,
   "id": "musical-glory",
   "metadata": {},
   "outputs": [],
   "source": [
    "# This class works as a factory of patterns through the method generate\n",
    "color_factory = ColorFactory()"
   ]
  },
  {
   "cell_type": "code",
   "execution_count": null,
   "id": "british-second",
   "metadata": {},
   "outputs": [],
   "source": [
    "img = color_factory.generate(pattern='simple', \n",
    "                             size_x=256, \n",
    "                             size_y=256,\n",
    "                             scale=0)\n",
    "plot_pattern(img)"
   ]
  },
  {
   "cell_type": "code",
   "execution_count": null,
   "id": "upset-imperial",
   "metadata": {},
   "outputs": [],
   "source": [
    "img = color_factory.generate(pattern='sin', \n",
    "                             size_x=256, \n",
    "                             size_y=256,\n",
    "                             scale=0)\n",
    "plot_pattern(img)"
   ]
  },
  {
   "cell_type": "code",
   "execution_count": null,
   "id": "meaningful-saturday",
   "metadata": {},
   "outputs": [],
   "source": [
    "img = color_factory.generate(pattern='square',\n",
    "                             size_x=256, \n",
    "                             size_y=256,\n",
    "                             scale=0)\n",
    "plot_pattern(img)"
   ]
  },
  {
   "cell_type": "code",
   "execution_count": null,
   "id": "demographic-arbitration",
   "metadata": {},
   "outputs": [],
   "source": [
    "img = color_factory.generate(pattern='circle',\n",
    "                             size_x=256, \n",
    "                             size_y=256,\n",
    "                             scale=0.5)\n",
    "plot_pattern(img)"
   ]
  },
  {
   "cell_type": "code",
   "execution_count": null,
   "id": "shared-channels",
   "metadata": {},
   "outputs": [],
   "source": [
    "img = color_factory.generate(pattern='scaled',\n",
    "                             size_x=256, \n",
    "                             size_y=256,\n",
    "                             scale=0.5)\n",
    "plot_pattern(img)"
   ]
  },
  {
   "cell_type": "code",
   "execution_count": null,
   "id": "current-husband",
   "metadata": {},
   "outputs": [],
   "source": [
    "img = color_factory.generate(pattern='paranoia',\n",
    "                             size_x=256, \n",
    "                             size_y=256,\n",
    "                             scale=0.5)\n",
    "plot_pattern(img)"
   ]
  }
 ],
 "metadata": {
  "kernelspec": {
   "display_name": "Python 3",
   "language": "python",
   "name": "python3"
  },
  "language_info": {
   "codemirror_mode": {
    "name": "ipython",
    "version": 3
   },
   "file_extension": ".py",
   "mimetype": "text/x-python",
   "name": "python",
   "nbconvert_exporter": "python",
   "pygments_lexer": "ipython3",
   "version": "3.6.10"
  }
 },
 "nbformat": 4,
 "nbformat_minor": 5
}
